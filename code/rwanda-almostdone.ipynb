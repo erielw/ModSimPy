{
 "cells": [
  {
   "cell_type": "markdown",
   "metadata": {},
   "source": [
    "# Modeling and Simulation Project 1: Eriel and Mia"
   ]
  },
  {
   "cell_type": "markdown",
   "metadata": {},
   "source": [
    "## What would Rwanda's population look like today had the Rwandan genocide not occurred?"
   ]
  },
  {
   "cell_type": "code",
   "execution_count": 1,
   "metadata": {},
   "outputs": [],
   "source": [
    "# Configure Jupyter so figures appear in the notebook\n",
    "%matplotlib inline\n",
    "\n",
    "# Configure Jupyter to display the assigned value after an assignment\n",
    "%config InteractiveShell.ast_node_interactivity='last_expr_or_assign'\n",
    "\n",
    "# import functions from the modsim library\n",
    "from modsim import *\n",
    "\n",
    "import random\n",
    "\n",
    "#We got this code from Allen Downey, just by the way :)"
   ]
  },
  {
   "cell_type": "markdown",
   "metadata": {},
   "source": [
    "In order to answer this question, we must ask ourselves: what divergences are there between the actual observed population chart of Rwanda, and that of what it could have been? In this case, the \"what it could have been\" is repesented by a country with a similar population chart: Tanzania."
   ]
  },
  {
   "cell_type": "markdown",
   "metadata": {},
   "source": [
    "In the cell below, we use pandas to import previously downloaded data in the form of Excel spreadsheets. This data gives us the birth and death rates from 1960 to 2016 in Rwanda and Tanzania. We will assign each piece of data to an appropriate variable."
   ]
  },
  {
   "cell_type": "code",
   "execution_count": 6,
   "metadata": {},
   "outputs": [
    {
     "data": {
      "text/plain": [
       "0     20.502\n",
       "1     20.313\n",
       "2     20.125\n",
       "3     19.931\n",
       "4     19.726\n",
       "5     19.507\n",
       "6     19.270\n",
       "7     19.018\n",
       "8     18.753\n",
       "9     18.475\n",
       "10    18.184\n",
       "11    17.877\n",
       "12    17.559\n",
       "13    17.236\n",
       "14    16.913\n",
       "15    16.603\n",
       "16    16.314\n",
       "17    16.053\n",
       "18    15.826\n",
       "19    15.633\n",
       "20    15.473\n",
       "21    15.340\n",
       "22    15.224\n",
       "23    15.121\n",
       "24    15.029\n",
       "25    14.954\n",
       "26    14.906\n",
       "27    14.889\n",
       "28    14.903\n",
       "29    14.940\n",
       "30    14.993\n",
       "31    15.051\n",
       "32    15.099\n",
       "33    15.120\n",
       "34    15.098\n",
       "35    15.014\n",
       "36    14.853\n",
       "37    14.613\n",
       "38    14.297\n",
       "39    13.911\n",
       "40    13.460\n",
       "41    12.955\n",
       "42    12.417\n",
       "43    11.865\n",
       "44    11.316\n",
       "45    10.787\n",
       "46    10.290\n",
       "47     9.825\n",
       "48     9.394\n",
       "49     8.998\n",
       "50     8.633\n",
       "51     8.290\n",
       "52     7.959\n",
       "53     7.635\n",
       "54     7.318\n",
       "55     7.015\n",
       "56     6.737\n",
       "Name: Tanzania, dtype: float64"
      ]
     },
     "execution_count": 6,
     "metadata": {},
     "output_type": "execute_result"
    }
   ],
   "source": [
    "import pandas as pd\n",
    "birthfile = 'data/birth_rate.xlsx'\n",
    "deathfile = 'data/death_rate.xlsx'\n",
    "birth_rate = pd.read_excel(birthfile)\n",
    "rwanda_birth = birth_rate['Rwanda']\n",
    "tanzania_birth = birth_rate['Tanzania']\n",
    "death_rate = pd.read_excel(deathfile)\n",
    "rwanda_death= death_rate['Rwanda']\n",
    "tanzania_death= death_rate['Tanzania']"
   ]
  },
  {
   "cell_type": "markdown",
   "metadata": {},
   "source": [
    "Now, we will assign all these variables, as well as a start and end time, to two System objects, represented by the variables 'systemR'and 'systemT.'"
   ]
  },
  {
   "cell_type": "code",
   "execution_count": 13,
   "metadata": {},
   "outputs": [
    {
     "data": {
      "text/html": [
       "<div>\n",
       "<style scoped>\n",
       "    .dataframe tbody tr th:only-of-type {\n",
       "        vertical-align: middle;\n",
       "    }\n",
       "\n",
       "    .dataframe tbody tr th {\n",
       "        vertical-align: top;\n",
       "    }\n",
       "\n",
       "    .dataframe thead th {\n",
       "        text-align: right;\n",
       "    }\n",
       "</style>\n",
       "<table border=\"1\" class=\"dataframe\">\n",
       "  <thead>\n",
       "    <tr style=\"text-align: right;\">\n",
       "      <th></th>\n",
       "      <th>values</th>\n",
       "    </tr>\n",
       "  </thead>\n",
       "  <tbody>\n",
       "    <tr>\n",
       "      <th>birth</th>\n",
       "      <td>0     49.296\n",
       "1     49.249\n",
       "2     49.191\n",
       "3     4...</td>\n",
       "    </tr>\n",
       "    <tr>\n",
       "      <th>death</th>\n",
       "      <td>0     20.502\n",
       "1     20.313\n",
       "2     20.125\n",
       "3     1...</td>\n",
       "    </tr>\n",
       "    <tr>\n",
       "      <th>t_0</th>\n",
       "      <td>1960</td>\n",
       "    </tr>\n",
       "    <tr>\n",
       "      <th>t_end</th>\n",
       "      <td>2016</td>\n",
       "    </tr>\n",
       "  </tbody>\n",
       "</table>\n",
       "</div>"
      ],
      "text/plain": [
       "birth    0     49.296\n",
       "1     49.249\n",
       "2     49.191\n",
       "3     4...\n",
       "death    0     20.502\n",
       "1     20.313\n",
       "2     20.125\n",
       "3     1...\n",
       "t_0                                                   1960\n",
       "t_end                                                 2016\n",
       "dtype: object"
      ]
     },
     "execution_count": 13,
     "metadata": {},
     "output_type": "execute_result"
    }
   ],
   "source": [
    "systemR = System(\n",
    "                birth = rwanda_birth,\n",
    "                death = rwanda_death,\n",
    "                t_0 = 1960,\n",
    "                t_end = 2016)\n",
    "systemT = System(\n",
    "                birth = tanzania_birth,\n",
    "                death = tanzania_death,\n",
    "                t_0 = 1960,\n",
    "                t_end = 2016)"
   ]
  },
  {
   "cell_type": "markdown",
   "metadata": {},
   "source": [
    "We will now define a function that will update the population as time progresses."
   ]
  },
  {
   "cell_type": "code",
   "execution_count": 20,
   "metadata": {},
   "outputs": [],
   "source": [
    "def update_pop(current_pop, system):\n",
    "    \"\"\"Update population based on what it really was.\n",
    "    \n",
    "    current_pop: current population\n",
    "    year: what year it is\n",
    "    system: system object with model parameters\n",
    "    \"\"\"\n",
    "    # note: we still need to put in the original populations of rwanda and tanzania in order to have a number to go off of\n",
    "    system.growth = system.birth - system.death\n",
    "    net_growth = current_pop + system.growth\n",
    "    return current_pop + net_growth"
   ]
  },
  {
   "cell_type": "code",
   "execution_count": 21,
   "metadata": {},
   "outputs": [],
   "source": [
    "def plot_results(set1, set2, timeseries, title):\n",
    "\n",
    "    plot(set1, ':', label='World Bank Data')\n",
    "    plot(set2, '--', label='Hypothetical Growth')\n",
    "    decorate(xlabel='Year', \n",
    "             ylabel='Rwandan population',\n",
    "             title=title)"
   ]
  },
  {
   "cell_type": "code",
   "execution_count": 24,
   "metadata": {},
   "outputs": [],
   "source": [
    "def runSet(set1, set2, update_pop, plot_results):\n",
    "    update_pop(current_pop, set1)\n",
    "    update_pop(current_pop, set2)\n",
    "    plot_results(set1, set2, timeseries, title)"
   ]
  },
  {
   "cell_type": "code",
   "execution_count": 25,
   "metadata": {},
   "outputs": [
    {
     "ename": "NameError",
     "evalue": "name 'current_pop' is not defined",
     "output_type": "error",
     "traceback": [
      "\u001b[1;31m---------------------------------------------------------------------------\u001b[0m",
      "\u001b[1;31mNameError\u001b[0m                                 Traceback (most recent call last)",
      "\u001b[1;32m<ipython-input-25-d0e9c7957823>\u001b[0m in \u001b[0;36m<module>\u001b[1;34m()\u001b[0m\n\u001b[1;32m----> 1\u001b[1;33m \u001b[0mrunSet\u001b[0m\u001b[1;33m(\u001b[0m\u001b[0msystemR\u001b[0m\u001b[1;33m,\u001b[0m \u001b[0msystemT\u001b[0m\u001b[1;33m,\u001b[0m \u001b[0mupdate_pop\u001b[0m\u001b[1;33m,\u001b[0m \u001b[0mplot_results\u001b[0m\u001b[1;33m)\u001b[0m\u001b[1;33m\u001b[0m\u001b[0m\n\u001b[0m",
      "\u001b[1;32m<ipython-input-24-7109d7e54f5b>\u001b[0m in \u001b[0;36mrunSet\u001b[1;34m(set1, set2, update_pop, plot_results)\u001b[0m\n\u001b[0;32m      1\u001b[0m \u001b[1;32mdef\u001b[0m \u001b[0mrunSet\u001b[0m\u001b[1;33m(\u001b[0m\u001b[0mset1\u001b[0m\u001b[1;33m,\u001b[0m \u001b[0mset2\u001b[0m\u001b[1;33m,\u001b[0m \u001b[0mupdate_pop\u001b[0m\u001b[1;33m,\u001b[0m \u001b[0mplot_results\u001b[0m\u001b[1;33m)\u001b[0m\u001b[1;33m:\u001b[0m\u001b[1;33m\u001b[0m\u001b[0m\n\u001b[1;32m----> 2\u001b[1;33m     \u001b[0mupdate_pop\u001b[0m\u001b[1;33m(\u001b[0m\u001b[0mcurrent_pop\u001b[0m\u001b[1;33m,\u001b[0m \u001b[0mset1\u001b[0m\u001b[1;33m)\u001b[0m\u001b[1;33m\u001b[0m\u001b[0m\n\u001b[0m\u001b[0;32m      3\u001b[0m     \u001b[0mupdate_pop\u001b[0m\u001b[1;33m(\u001b[0m\u001b[0mcurrent_pop\u001b[0m\u001b[1;33m,\u001b[0m \u001b[0mset2\u001b[0m\u001b[1;33m)\u001b[0m\u001b[1;33m\u001b[0m\u001b[0m\n\u001b[0;32m      4\u001b[0m     \u001b[0mplot_results\u001b[0m\u001b[1;33m(\u001b[0m\u001b[0mset1\u001b[0m\u001b[1;33m,\u001b[0m \u001b[0mset2\u001b[0m\u001b[1;33m,\u001b[0m \u001b[0mtimeseries\u001b[0m\u001b[1;33m,\u001b[0m \u001b[0mtitle\u001b[0m\u001b[1;33m)\u001b[0m\u001b[1;33m\u001b[0m\u001b[0m\n",
      "\u001b[1;31mNameError\u001b[0m: name 'current_pop' is not defined"
     ]
    }
   ],
   "source": [
    "runSet(systemR, systemT, update_pop, plot_results)"
   ]
  },
  {
   "cell_type": "markdown",
   "metadata": {},
   "source": [
    "Now that we have run our functions, we should have a proper-looking model that compares Rwanda's actual population growth chart with a hypothetical chart based on that of Tanzania."
   ]
  },
  {
   "cell_type": "code",
   "execution_count": 26,
   "metadata": {},
   "outputs": [],
   "source": [
    "#ending notes: we still need to add in population and also collectively figure out what the\n",
    "#difference is going to be between the hypothetical growth chart of Rwanda and just the\n",
    "#actual growth chart of Tanzania."
   ]
  },
  {
   "cell_type": "code",
   "execution_count": 27,
   "metadata": {},
   "outputs": [],
   "source": [
    "#maybe something in the function, like, if the year is within the range of years where we\n",
    "#saw the death rate shoot up due to the genocide, then use tanzania's numbers, but otherwise\n",
    "#just use the same numbers as rwanda had. or, alternatively, we could use tanzania's numbers\n",
    "#loosely by adding some form of randomization that changes them a bit each time? thoughts?"
   ]
  }
 ],
 "metadata": {
  "kernelspec": {
   "display_name": "Python 3",
   "language": "python",
   "name": "python3"
  },
  "language_info": {
   "codemirror_mode": {
    "name": "ipython",
    "version": 3
   },
   "file_extension": ".py",
   "mimetype": "text/x-python",
   "name": "python",
   "nbconvert_exporter": "python",
   "pygments_lexer": "ipython3",
   "version": "3.6.6"
  }
 },
 "nbformat": 4,
 "nbformat_minor": 2
}
