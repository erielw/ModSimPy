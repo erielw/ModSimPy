{
 "cells": [
  {
   "cell_type": "markdown",
   "metadata": {},
   "source": [
    "# Modeling and Simulation Project 1: Eriel and Mia"
   ]
  },
  {
   "cell_type": "markdown",
   "metadata": {},
   "source": [
    "## What would Rwanda's population look like today had the Rwandan genocide not occurred?"
   ]
  },
  {
   "cell_type": "code",
   "execution_count": 20,
   "metadata": {},
   "outputs": [],
   "source": [
    "# Configure Jupyter so figures appear in the notebook\n",
    "%matplotlib inline\n",
    "\n",
    "# Configure Jupyter to display the assigned value after an assignment\n",
    "%config InteractiveShell.ast_node_interactivity='last_expr_or_assign'\n",
    "\n",
    "# import functions from the modsim library\n",
    "from modsim import *\n",
    "\n",
    "\n",
    "#We got this code from Allen Downey, just by the way :)"
   ]
  },
  {
   "cell_type": "markdown",
   "metadata": {},
   "source": [
    "In order to answer this question, we must ask ourselves: what divergences are there between the actual observed population chart of Rwanda, and that of what it could have been? In this case, the \"what it could have been\" is repesented by a country with a similar population chart: Tanzania."
   ]
  },
  {
   "cell_type": "markdown",
   "metadata": {},
   "source": [
    "In the cell below, we use pandas to import previously downloaded data in the form of Excel spreadsheets. This data gives us the birth and death rates from 1960 to 2016 in Rwanda and Tanzania. We will assign each piece of data to an appropriate variable."
   ]
  },
  {
   "cell_type": "code",
   "execution_count": 21,
   "metadata": {},
   "outputs": [],
   "source": [
    "import pandas as pd\n",
    "birthfile = 'data/birth_rate.xlsx'\n",
    "deathfile = 'data/death_rate.xlsx'\n",
    "\n",
    "birth_rate = pd.read_excel(birthfile)\n",
    "rwanda_birth = birth_rate['Rwanda']\n",
    "tanzania_birth = birth_rate['Tanzania']\n",
    "\n",
    "death_rate = pd.read_excel(deathfile)\n",
    "rwanda_death= death_rate['Rwanda']\n",
    "tanzania_death= death_rate['Tanzania'];"
   ]
  },
  {
   "cell_type": "markdown",
   "metadata": {},
   "source": [
    "Now, we will assign all these variables, as well as a start and end time, to two System objects, represented by the variables 'systemR' and 'systemT.'"
   ]
  },
  {
   "cell_type": "code",
   "execution_count": 22,
   "metadata": {},
   "outputs": [],
   "source": [
    "systemR = System(\n",
    "                birth = rwanda_birth,\n",
    "                death = rwanda_death,\n",
    "                current_pop = 2933000,\n",
    "                t_0 = 1960,\n",
    "                t_end = 2016)\n",
    "systemR_2 = System(\n",
    "                birth = rwanda_birth,\n",
    "                death = rwanda_death,\n",
    "                current_pop = 2933000,\n",
    "                t_0 = 1960,\n",
    "                t_end = 2016)\n",
    "systemT = System(\n",
    "                birth = tanzania_birth,\n",
    "                death = tanzania_death);"
   ]
  },
  {
   "cell_type": "markdown",
   "metadata": {},
   "source": [
    "We will now define a function that will update the population as time progresses, a function that plots our results, and a function that runs the entire simulation on loop."
   ]
  },
  {
   "cell_type": "code",
   "execution_count": 23,
   "metadata": {},
   "outputs": [],
   "source": [
    "def update_pop(system1, system2, t):\n",
    "    \"\"\"Update population function\n",
    "    \n",
    "    current_pop: current population\n",
    "    newpop is returned so that we can plot things with it\n",
    "    \"\"\"\n",
    "    if t in range(1984,2000): #if the years are between 1984 and 2000\n",
    "        growth = (system2.birth[t]-system2.death[t])/1000 #creates a growth rate from Tanzania's birth and death rates\n",
    "    else: #if the years are before 1984 or after 2000, creates a growth rate from Rwanda's birth and death rates\n",
    "        growth = (system1.birth[t] - system1.death[t])/1000\n",
    "    system1.current_pop = (1+growth)*system1.current_pop\n",
    "    return system1.current_pop"
   ]
  },
  {
   "cell_type": "code",
   "execution_count": 24,
   "metadata": {},
   "outputs": [],
   "source": [
    "title='Real vs. Hypothetical Rwandan Population Growth'\n",
    "def plot_results(results1, results2, title):\n",
    "    plot(results1, ':', label='World Bank Data')\n",
    "    plot(results2, '--', label='Hypothetical Growth')\n",
    "    decorate(xlabel='Year', \n",
    "             ylabel='Rwandan population (x10^7)',\n",
    "             title=title)"
   ]
  },
  {
   "cell_type": "code",
   "execution_count": 25,
   "metadata": {},
   "outputs": [],
   "source": [
    "def runSet(system1, system2, system3, update_pop):\n",
    "    newpop_r = TimeSeries()\n",
    "    newpop_t = TimeSeries()\n",
    "    for t in linrange(system1.t_0, system1.t_end): #from 1960 to 2016\n",
    "        newpop_r[t] = update_pop(system1, system1, t) #update Rwanda's population using systemR\n",
    "        newpop_t[t] = update_pop(system2, system3, t) #update Rwanda's population hypothetically using systemR2 and systemT\n",
    "    return newpop_r, newpop_t"
   ]
  },
  {
   "cell_type": "markdown",
   "metadata": {},
   "source": [
    "# Results"
   ]
  },
  {
   "cell_type": "code",
   "execution_count": 26,
   "metadata": {},
   "outputs": [
    {
     "data": {
      "image/png": "[encoded data removed]",
      "text/plain": [
       "<Figure size 432x288 with 1 Axes>"
      ]
     },
     "metadata": {
      "needs_background": "light"
     },
     "output_type": "display_data"
    }
   ],
   "source": [
    "newr, newt = runSet(systemR, systemR_2, systemT, update_pop)\n",
    "plot_results(newr, newt, title)"
   ]
  },
  {
   "cell_type": "markdown",
   "metadata": {},
   "source": [
    "# Interpretation\n",
    "Now that we have run our functions, we can see that the model compares Rwanda's actual population growth chart with a hypothetical chart based on that of Tanzania. During the years 1984 to just before 2000, we used Tanzania's growth rates instead of Rwanda's to model the expected growth rate of Rwanda had the genocide not occurred."
   ]
  },
  {
   "cell_type": "markdown",
   "metadata": {},
   "source": [
    "Tanzania and Rwanda had quite similar growth rates throughout most years in this graph, though we noticed deviation due to wartime-Rwanda between the years of 1984 and 2000, so our model accounted for that. The model fails to take into account information we could not find on the number of people who sought refuge during the Rwandan genocide, but it was still able to approximate the difference in population growth that Rwanda would have likely experienced, based on the similar growth rates of Tanzania, had the genocide not occurred."
   ]
  }
 ],
 "metadata": {
  "kernelspec": {
   "display_name": "Python 3",
   "language": "python",
   "name": "python3"
  },
  "language_info": {
   "codemirror_mode": {
    "name": "ipython",
    "version": 3
   },
   "file_extension": ".py",
   "mimetype": "text/x-python",
   "name": "python",
   "nbconvert_exporter": "python",
   "pygments_lexer": "ipython3",
   "version": "3.6.6"
  }
 },
 "nbformat": 4,
 "nbformat_minor": 2
}
