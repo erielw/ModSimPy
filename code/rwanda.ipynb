{
 "cells": [
  {
   "cell_type": "markdown",
   "metadata": {},
   "source": [
    "# Modeling and Simulation Project 1: Eriel and Mia"
   ]
  },
  {
   "cell_type": "markdown",
   "metadata": {},
   "source": [
    "## What would Rwanda's population look like today had the Rwandan genocide not occurred?"
   ]
  },
  {
   "cell_type": "code",
   "execution_count": 23,
   "metadata": {},
   "outputs": [],
   "source": [
    "# Configure Jupyter so figures appear in the notebook\n",
    "%matplotlib inline\n",
    "\n",
    "# Configure Jupyter to display the assigned value after an assignment\n",
    "%config InteractiveShell.ast_node_interactivity='last_expr_or_assign'\n",
    "\n",
    "# import functions from the modsim library\n",
    "from modsim import *\n",
    "\n",
    "import random\n",
    "\n",
    "#We got this code from Allen Downey, just by the way :)"
   ]
  },
  {
   "cell_type": "markdown",
   "metadata": {},
   "source": [
    "In order to answer this question, we must ask ourselves: what divergences are there between the actual observed population chart of Rwanda, and that of what it could have been? In this case, the \"what it could have been\" is repesented by a country with a similar population chart: Tanzania."
   ]
  },
  {
   "cell_type": "code",
   "execution_count": 24,
   "metadata": {},
   "outputs": [
    {
     "data": {
      "text/plain": [
       "0     49.296\n",
       "1     49.249\n",
       "2     49.191\n",
       "3     49.125\n",
       "4     49.053\n",
       "5     48.972\n",
       "6     48.877\n",
       "7     48.765\n",
       "8     48.635\n",
       "9     48.490\n",
       "10    48.338\n",
       "11    48.189\n",
       "12    48.048\n",
       "13    47.920\n",
       "14    47.799\n",
       "15    47.678\n",
       "16    47.543\n",
       "17    47.381\n",
       "18    47.187\n",
       "19    46.960\n",
       "20    46.709\n",
       "21    46.445\n",
       "22    46.182\n",
       "23    45.929\n",
       "24    45.690\n",
       "25    45.458\n",
       "26    45.223\n",
       "27    44.976\n",
       "28    44.709\n",
       "29    44.422\n",
       "30    44.117\n",
       "31    43.796\n",
       "32    43.471\n",
       "33    43.153\n",
       "34    42.854\n",
       "35    42.590\n",
       "36    42.375\n",
       "37    42.214\n",
       "38    42.107\n",
       "39    42.051\n",
       "40    42.045\n",
       "41    42.085\n",
       "42    42.154\n",
       "43    42.229\n",
       "44    42.288\n",
       "45    42.302\n",
       "46    42.240\n",
       "47    42.092\n",
       "48    41.852\n",
       "49    41.522\n",
       "50    41.112\n",
       "51    40.639\n",
       "52    40.133\n",
       "53    39.621\n",
       "54    39.120\n",
       "55    38.640\n",
       "56    38.186\n",
       "Name: Tanzania, dtype: float64"
      ]
     },
     "execution_count": 24,
     "metadata": {},
     "output_type": "execute_result"
    }
   ],
   "source": [
    "import pandas as pd\n",
    "birthfile = 'data/birth_rate.xlsx'\n",
    "deathfile = 'data/death_rate.xlsx'\n",
    "birth_rate = pd.read_excel(birthfile)\n",
    "rwanda_birth = birth_rate['Rwanda']\n",
    "tanzania_birth = birth_rate['Tanzania']"
   ]
  },
  {
   "cell_type": "code",
   "execution_count": 25,
   "metadata": {},
   "outputs": [
    {
     "data": {
      "text/plain": [
       "0     20.502\n",
       "1     20.313\n",
       "2     20.125\n",
       "3     19.931\n",
       "4     19.726\n",
       "5     19.507\n",
       "6     19.270\n",
       "7     19.018\n",
       "8     18.753\n",
       "9     18.475\n",
       "10    18.184\n",
       "11    17.877\n",
       "12    17.559\n",
       "13    17.236\n",
       "14    16.913\n",
       "15    16.603\n",
       "16    16.314\n",
       "17    16.053\n",
       "18    15.826\n",
       "19    15.633\n",
       "20    15.473\n",
       "21    15.340\n",
       "22    15.224\n",
       "23    15.121\n",
       "24    15.029\n",
       "25    14.954\n",
       "26    14.906\n",
       "27    14.889\n",
       "28    14.903\n",
       "29    14.940\n",
       "30    14.993\n",
       "31    15.051\n",
       "32    15.099\n",
       "33    15.120\n",
       "34    15.098\n",
       "35    15.014\n",
       "36    14.853\n",
       "37    14.613\n",
       "38    14.297\n",
       "39    13.911\n",
       "40    13.460\n",
       "41    12.955\n",
       "42    12.417\n",
       "43    11.865\n",
       "44    11.316\n",
       "45    10.787\n",
       "46    10.290\n",
       "47     9.825\n",
       "48     9.394\n",
       "49     8.998\n",
       "50     8.633\n",
       "51     8.290\n",
       "52     7.959\n",
       "53     7.635\n",
       "54     7.318\n",
       "55     7.015\n",
       "56     6.737\n",
       "Name: Tanzania, dtype: float64"
      ]
     },
     "execution_count": 25,
     "metadata": {},
     "output_type": "execute_result"
    }
   ],
   "source": [
    "death_rate = pd.read_excel(deathfile)\n",
    "rwanda_death= death_rate['Rwanda']\n",
    "tanzania_death= death_rate['Tanzania']\n",
    "tanzania_death"
   ]
  },
  {
   "cell_type": "code",
   "execution_count": 26,
   "metadata": {},
   "outputs": [
    {
     "data": {
      "text/html": [
       "<div>\n",
       "<style scoped>\n",
       "    .dataframe tbody tr th:only-of-type {\n",
       "        vertical-align: middle;\n",
       "    }\n",
       "\n",
       "    .dataframe tbody tr th {\n",
       "        vertical-align: top;\n",
       "    }\n",
       "\n",
       "    .dataframe thead th {\n",
       "        text-align: right;\n",
       "    }\n",
       "</style>\n",
       "<table border=\"1\" class=\"dataframe\">\n",
       "  <thead>\n",
       "    <tr style=\"text-align: right;\">\n",
       "      <th></th>\n",
       "      <th>values</th>\n",
       "    </tr>\n",
       "  </thead>\n",
       "  <tbody>\n",
       "    <tr>\n",
       "      <th>r_b</th>\n",
       "      <td>0     52.248\n",
       "1     51.642\n",
       "2     51.036\n",
       "3     5...</td>\n",
       "    </tr>\n",
       "    <tr>\n",
       "      <th>r_d</th>\n",
       "      <td>0     22.980\n",
       "1     22.652\n",
       "2     22.307\n",
       "3     2...</td>\n",
       "    </tr>\n",
       "    <tr>\n",
       "      <th>t_b</th>\n",
       "      <td>0     49.296\n",
       "1     49.249\n",
       "2     49.191\n",
       "3     4...</td>\n",
       "    </tr>\n",
       "    <tr>\n",
       "      <th>t_d</th>\n",
       "      <td>0     20.502\n",
       "1     20.313\n",
       "2     20.125\n",
       "3     1...</td>\n",
       "    </tr>\n",
       "    <tr>\n",
       "      <th>t_0</th>\n",
       "      <td>1960</td>\n",
       "    </tr>\n",
       "    <tr>\n",
       "      <th>t_end</th>\n",
       "      <td>2016</td>\n",
       "    </tr>\n",
       "  </tbody>\n",
       "</table>\n",
       "</div>"
      ],
      "text/plain": [
       "r_b      0     52.248\n",
       "1     51.642\n",
       "2     51.036\n",
       "3     5...\n",
       "r_d      0     22.980\n",
       "1     22.652\n",
       "2     22.307\n",
       "3     2...\n",
       "t_b      0     49.296\n",
       "1     49.249\n",
       "2     49.191\n",
       "3     4...\n",
       "t_d      0     20.502\n",
       "1     20.313\n",
       "2     20.125\n",
       "3     1...\n",
       "t_0                                                   1960\n",
       "t_end                                                 2016\n",
       "dtype: object"
      ]
     },
     "execution_count": 26,
     "metadata": {},
     "output_type": "execute_result"
    }
   ],
   "source": [
    "#birth_rate[1]\n",
    "system = System(\n",
    "    r_b = rwanda_birth,\n",
    "                r_d = rwanda_death,\n",
    "                t_b = tanzania_birth,\n",
    "                t_d = tanzania_death,\n",
    "                t_0 = 1960,\n",
    "                t_end = 2016)"
   ]
  },
  {
   "cell_type": "code",
   "execution_count": 27,
   "metadata": {},
   "outputs": [
    {
     "ename": "AttributeError",
     "evalue": "'System' object has no attribute 'birth_rate'",
     "output_type": "error",
     "traceback": [
      "\u001b[1;31m---------------------------------------------------------------------------\u001b[0m",
      "\u001b[1;31mAttributeError\u001b[0m                            Traceback (most recent call last)",
      "\u001b[1;32m<ipython-input-27-4ca3ff765c2d>\u001b[0m in \u001b[0;36m<module>\u001b[1;34m()\u001b[0m\n\u001b[1;32m----> 1\u001b[1;33m \u001b[0msystem\u001b[0m\u001b[1;33m.\u001b[0m\u001b[0mgrowth\u001b[0m \u001b[1;33m=\u001b[0m \u001b[0msystem\u001b[0m\u001b[1;33m.\u001b[0m\u001b[0mbirth_rate\u001b[0m \u001b[1;33m-\u001b[0m \u001b[0msystem\u001b[0m\u001b[1;33m.\u001b[0m\u001b[0mdeath_rate\u001b[0m\u001b[1;33m\u001b[0m\u001b[0m\n\u001b[0m",
      "\u001b[1;32mC:\\Miniconda3\\lib\\site-packages\\pandas\\core\\generic.py\u001b[0m in \u001b[0;36m__getattr__\u001b[1;34m(self, name)\u001b[0m\n\u001b[0;32m   4374\u001b[0m             \u001b[1;32mif\u001b[0m \u001b[0mself\u001b[0m\u001b[1;33m.\u001b[0m\u001b[0m_info_axis\u001b[0m\u001b[1;33m.\u001b[0m\u001b[0m_can_hold_identifiers_and_holds_name\u001b[0m\u001b[1;33m(\u001b[0m\u001b[0mname\u001b[0m\u001b[1;33m)\u001b[0m\u001b[1;33m:\u001b[0m\u001b[1;33m\u001b[0m\u001b[0m\n\u001b[0;32m   4375\u001b[0m                 \u001b[1;32mreturn\u001b[0m \u001b[0mself\u001b[0m\u001b[1;33m[\u001b[0m\u001b[0mname\u001b[0m\u001b[1;33m]\u001b[0m\u001b[1;33m\u001b[0m\u001b[0m\n\u001b[1;32m-> 4376\u001b[1;33m             \u001b[1;32mreturn\u001b[0m \u001b[0mobject\u001b[0m\u001b[1;33m.\u001b[0m\u001b[0m__getattribute__\u001b[0m\u001b[1;33m(\u001b[0m\u001b[0mself\u001b[0m\u001b[1;33m,\u001b[0m \u001b[0mname\u001b[0m\u001b[1;33m)\u001b[0m\u001b[1;33m\u001b[0m\u001b[0m\n\u001b[0m\u001b[0;32m   4377\u001b[0m \u001b[1;33m\u001b[0m\u001b[0m\n\u001b[0;32m   4378\u001b[0m     \u001b[1;32mdef\u001b[0m \u001b[0m__setattr__\u001b[0m\u001b[1;33m(\u001b[0m\u001b[0mself\u001b[0m\u001b[1;33m,\u001b[0m \u001b[0mname\u001b[0m\u001b[1;33m,\u001b[0m \u001b[0mvalue\u001b[0m\u001b[1;33m)\u001b[0m\u001b[1;33m:\u001b[0m\u001b[1;33m\u001b[0m\u001b[0m\n",
      "\u001b[1;31mAttributeError\u001b[0m: 'System' object has no attribute 'birth_rate'"
     ]
    }
   ],
   "source": [
    "system.growth = system.birth_rate - system.death_rate"
   ]
  },
  {
   "cell_type": "code",
   "execution_count": 28,
   "metadata": {},
   "outputs": [],
   "source": [
    "def update_real(current_pop, year, system):\n",
    "    \"\"\"Update population based on what it really was.\n",
    "    \n",
    "    current_pop: current population\n",
    "    year: what year it is\n",
    "    system: system object with model parameters\n",
    "    \"\"\"\n",
    "    net_growth = current_pop + system.growth\n",
    "    return current_pop + net_growth"
   ]
  },
  {
   "cell_type": "code",
   "execution_count": 29,
   "metadata": {},
   "outputs": [],
   "source": [
    "def plot_results(source, hypothetical, timeseries, title):\n",
    "\n",
    "    plot(source, ':', label='World Bank Data')\n",
    "    plot(hypothetical, '--', label='Hypothetical Growth')\n",
    "    decorate(xlabel='Year', \n",
    "             ylabel='Rwandan population',\n",
    "             title=title)"
   ]
  },
  {
   "cell_type": "code",
   "execution_count": 30,
   "metadata": {},
   "outputs": [
    {
     "ename": "NameError",
     "evalue": "name 'other_pop' is not defined",
     "output_type": "error",
     "traceback": [
      "\u001b[1;31m---------------------------------------------------------------------------\u001b[0m",
      "\u001b[1;31mNameError\u001b[0m                                 Traceback (most recent call last)",
      "\u001b[1;32m<ipython-input-30-8b361201b0a6>\u001b[0m in \u001b[0;36m<module>\u001b[1;34m()\u001b[0m\n\u001b[1;32m----> 1\u001b[1;33m system2 = System(other_pop = other_pop,\n\u001b[0m\u001b[0;32m      2\u001b[0m                 \u001b[0mbirth_2\u001b[0m \u001b[1;33m=\u001b[0m \u001b[0mbirth_2\u001b[0m\u001b[1;33m,\u001b[0m\u001b[1;33m\u001b[0m\u001b[0m\n\u001b[0;32m      3\u001b[0m                 \u001b[0mdeath_2\u001b[0m \u001b[1;33m=\u001b[0m \u001b[0mdeath_2\u001b[0m\u001b[1;33m,\u001b[0m\u001b[1;33m\u001b[0m\u001b[0m\n\u001b[0;32m      4\u001b[0m                 \u001b[0mt_02\u001b[0m \u001b[1;33m=\u001b[0m \u001b[1;36m1960\u001b[0m\u001b[1;33m,\u001b[0m\u001b[1;33m\u001b[0m\u001b[0m\n\u001b[0;32m      5\u001b[0m                 t_end2 = 2016)\n",
      "\u001b[1;31mNameError\u001b[0m: name 'other_pop' is not defined"
     ]
    }
   ],
   "source": [
    "system2 = System(other_pop = other_pop,\n",
    "                birth_2 = birth_2,\n",
    "                death_2 = death_2,\n",
    "                t_02 = 1960,\n",
    "                t_end2 = 2016)"
   ]
  },
  {
   "cell_type": "code",
   "execution_count": 138,
   "metadata": {},
   "outputs": [
    {
     "ename": "IndentationError",
     "evalue": "unindent does not match any outer indentation level (<ipython-input-138-cb1e68f673a8>, line 8)",
     "output_type": "error",
     "traceback": [
      "\u001b[1;36m  File \u001b[1;32m\"<ipython-input-138-cb1e68f673a8>\"\u001b[1;36m, line \u001b[1;32m8\u001b[0m\n\u001b[1;33m    system.growth = system.birth_rate*someRandomNumberForVariationsSake - system.different_death_rate_minus_genocide*someRandomNumberAlso\u001b[0m\n\u001b[1;37m                                                                                                                                         ^\u001b[0m\n\u001b[1;31mIndentationError\u001b[0m\u001b[1;31m:\u001b[0m unindent does not match any outer indentation level\n"
     ]
    }
   ],
   "source": [
    "def update_hypo(other_pop, year, system2):\n",
    "      \"\"\"Update population based on what could have been.\n",
    "    \n",
    "    current_pop: current population\n",
    "    year: what year it is\n",
    "    system: system object with model parameters\n",
    "    \"\"\"\n",
    "    system.growth = system.birth_rate*someRandomNumberForVariationsSake - system.different_death_rate_minus_genocide*someRandomNumberAlso\n",
    "    net_growth = current_pop + system.growth\n",
    "    return current_pop + net_growth"
   ]
  },
  {
   "cell_type": "code",
   "execution_count": 139,
   "metadata": {},
   "outputs": [],
   "source": [
    "#run both functions, plot them together, yay :)"
   ]
  },
  {
   "cell_type": "code",
   "execution_count": null,
   "metadata": {},
   "outputs": [],
   "source": []
  },
  {
   "cell_type": "code",
   "execution_count": null,
   "metadata": {},
   "outputs": [],
   "source": []
  },
  {
   "cell_type": "code",
   "execution_count": null,
   "metadata": {},
   "outputs": [],
   "source": []
  }
 ],
 "metadata": {
  "kernelspec": {
   "display_name": "Python 3",
   "language": "python",
   "name": "python3"
  },
  "language_info": {
   "codemirror_mode": {
    "name": "ipython",
    "version": 3
   },
   "file_extension": ".py",
   "mimetype": "text/x-python",
   "name": "python",
   "nbconvert_exporter": "python",
   "pygments_lexer": "ipython3",
   "version": "3.6.6"
  }
 },
 "nbformat": 4,
 "nbformat_minor": 2
}
